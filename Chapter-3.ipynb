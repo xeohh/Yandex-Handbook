{
 "cells": [
  {
   "cell_type": "markdown",
   "metadata": {},
   "source": [
    "# Циклы"
   ]
  },
  {
   "cell_type": "markdown",
   "metadata": {},
   "source": [
    "## Раз, два, три! Ёлочка, гори!\n",
    "\n",
    "В детском саду проводят новогодний утренник. Со знанием чисел и их порядком у детей пока есть небольшие проблемы, но цифру три знают все без исключения.\n",
    "\n",
    "Напишите программу, которая зажигает Ёлочку, когда все дети прокричат «Три!»\n",
    "\n",
    "**Формат ввода**\n",
    "\n",
    "Вводятся крики детей.\n",
    "\n",
    "**Формат вывода**\n",
    "\n",
    "Выводить «Режим ожидания...», пока дети не прокричат «Три!».\n",
    "В конце вывести «Ёлочка, гори!»"
   ]
  },
  {
   "cell_type": "code",
   "execution_count": null,
   "metadata": {},
   "outputs": [],
   "source": [
    "while input() != 'Три!':\n",
    "    print(f'Режим ожидания...')\n",
    "print(f'Ёлочка, гори!')"
   ]
  },
  {
   "cell_type": "markdown",
   "metadata": {},
   "source": [
    "## Зайка — 3\n",
    "В задачнике ко второй лекции мы помогали детям искать зайца.\n",
    "На этот раз мы будем искать и считать сразу нескольких зайчат.\n",
    "\n",
    "**Формат ввода**\n",
    "\n",
    "Вводятся строки, описывающие придорожную местность.\n",
    "В конце поездки вводится «Приехали!»\n",
    "\n",
    "**Формат вывода**\n",
    "\n",
    "Количество строк, в которых есть зайка."
   ]
  },
  {
   "cell_type": "code",
   "execution_count": null,
   "metadata": {},
   "outputs": [],
   "source": [
    "counter = 0\n",
    "while (string := input()) != 'Приехали!':\n",
    "    if 'зайка' in string:\n",
    "        counter += 1\n",
    "print(counter)"
   ]
  }
 ],
 "metadata": {
  "kernelspec": {
   "display_name": "base",
   "language": "python",
   "name": "python3"
  },
  "language_info": {
   "codemirror_mode": {
    "name": "ipython",
    "version": 3
   },
   "file_extension": ".py",
   "mimetype": "text/x-python",
   "name": "python",
   "nbconvert_exporter": "python",
   "pygments_lexer": "ipython3",
   "version": "3.10.9"
  }
 },
 "nbformat": 4,
 "nbformat_minor": 2
}
